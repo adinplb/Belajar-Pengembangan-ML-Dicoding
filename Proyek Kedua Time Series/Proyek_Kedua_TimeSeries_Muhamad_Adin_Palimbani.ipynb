{
  "nbformat": 4,
  "nbformat_minor": 0,
  "metadata": {
    "colab": {
      "provenance": []
    },
    "kernelspec": {
      "name": "python3",
      "display_name": "Python 3"
    },
    "language_info": {
      "name": "python"
    }
  },
  "cells": [
    {
      "cell_type": "code",
      "execution_count": 1,
      "metadata": {
        "id": "mCseJgfcGl7c"
      },
      "outputs": [],
      "source": [
        "import numpy as np\n",
        "import tensorflow as tf\n",
        "import yfinance as yf\n",
        "import matplotlib.pyplot as plt\n",
        "from datetime import datetime\n",
        "from sklearn.preprocessing import MinMaxScaler\n",
        "from pandas_datareader.data import DataReader\n",
        "\n",
        "import pandas as pd\n",
        "from keras.preprocessing import sequence\n",
        "from keras.models import Sequential\n",
        "from keras.layers import Dense, Dropout, Embedding, LSTM, Bidirectional\n",
        "from keras.datasets import imdb"
      ]
    },
    {
      "cell_type": "code",
      "source": [
        "from google.colab import drive\n",
        "drive.mount ('/content/drive')"
      ],
      "metadata": {
        "colab": {
          "base_uri": "https://localhost:8080/"
        },
        "id": "QNi_YT3EHI1J",
        "outputId": "f9d5a17d-fb4e-45c7-a2e0-268ea5b85b55"
      },
      "execution_count": 2,
      "outputs": [
        {
          "output_type": "stream",
          "name": "stdout",
          "text": [
            "Mounted at /content/drive\n"
          ]
        }
      ]
    },
    {
      "cell_type": "code",
      "source": [
        "df = pd.read_csv('/content/drive/MyDrive/pengembangan-ML-dicoding/kalimati_tarkari_dataset.csv',\n",
        "                 parse_dates=[\"Date\"],\n",
        "                 index_col=[\"Date\"]) # parse the date column (tell pandas column 1 is a datetime))\n",
        "df.head()"
      ],
      "metadata": {
        "colab": {
          "base_uri": "https://localhost:8080/",
          "height": 237
        },
        "id": "rQoMHHgrHI-S",
        "outputId": "62178127-488b-46f2-dd07-2cb75df36cbb"
      },
      "execution_count": 3,
      "outputs": [
        {
          "output_type": "execute_result",
          "data": {
            "text/plain": [
              "            SN            Commodity Unit  Minimum  Maximum  Average\n",
              "Date                                                               \n",
              "2013-06-16   0   Tomato Big(Nepali)   Kg     35.0     40.0     37.5\n",
              "2013-06-16   1  Tomato Small(Local)   Kg     26.0     32.0     29.0\n",
              "2013-06-16   2           Potato Red   Kg     20.0     21.0     20.5\n",
              "2013-06-16   3         Potato White   Kg     15.0     16.0     15.5\n",
              "2013-06-16   4   Onion Dry (Indian)   Kg     28.0     30.0     29.0"
            ],
            "text/html": [
              "\n",
              "  <div id=\"df-d35a7a51-aff5-46c5-ab19-0673cc0621e8\" class=\"colab-df-container\">\n",
              "    <div>\n",
              "<style scoped>\n",
              "    .dataframe tbody tr th:only-of-type {\n",
              "        vertical-align: middle;\n",
              "    }\n",
              "\n",
              "    .dataframe tbody tr th {\n",
              "        vertical-align: top;\n",
              "    }\n",
              "\n",
              "    .dataframe thead th {\n",
              "        text-align: right;\n",
              "    }\n",
              "</style>\n",
              "<table border=\"1\" class=\"dataframe\">\n",
              "  <thead>\n",
              "    <tr style=\"text-align: right;\">\n",
              "      <th></th>\n",
              "      <th>SN</th>\n",
              "      <th>Commodity</th>\n",
              "      <th>Unit</th>\n",
              "      <th>Minimum</th>\n",
              "      <th>Maximum</th>\n",
              "      <th>Average</th>\n",
              "    </tr>\n",
              "    <tr>\n",
              "      <th>Date</th>\n",
              "      <th></th>\n",
              "      <th></th>\n",
              "      <th></th>\n",
              "      <th></th>\n",
              "      <th></th>\n",
              "      <th></th>\n",
              "    </tr>\n",
              "  </thead>\n",
              "  <tbody>\n",
              "    <tr>\n",
              "      <th>2013-06-16</th>\n",
              "      <td>0</td>\n",
              "      <td>Tomato Big(Nepali)</td>\n",
              "      <td>Kg</td>\n",
              "      <td>35.0</td>\n",
              "      <td>40.0</td>\n",
              "      <td>37.5</td>\n",
              "    </tr>\n",
              "    <tr>\n",
              "      <th>2013-06-16</th>\n",
              "      <td>1</td>\n",
              "      <td>Tomato Small(Local)</td>\n",
              "      <td>Kg</td>\n",
              "      <td>26.0</td>\n",
              "      <td>32.0</td>\n",
              "      <td>29.0</td>\n",
              "    </tr>\n",
              "    <tr>\n",
              "      <th>2013-06-16</th>\n",
              "      <td>2</td>\n",
              "      <td>Potato Red</td>\n",
              "      <td>Kg</td>\n",
              "      <td>20.0</td>\n",
              "      <td>21.0</td>\n",
              "      <td>20.5</td>\n",
              "    </tr>\n",
              "    <tr>\n",
              "      <th>2013-06-16</th>\n",
              "      <td>3</td>\n",
              "      <td>Potato White</td>\n",
              "      <td>Kg</td>\n",
              "      <td>15.0</td>\n",
              "      <td>16.0</td>\n",
              "      <td>15.5</td>\n",
              "    </tr>\n",
              "    <tr>\n",
              "      <th>2013-06-16</th>\n",
              "      <td>4</td>\n",
              "      <td>Onion Dry (Indian)</td>\n",
              "      <td>Kg</td>\n",
              "      <td>28.0</td>\n",
              "      <td>30.0</td>\n",
              "      <td>29.0</td>\n",
              "    </tr>\n",
              "  </tbody>\n",
              "</table>\n",
              "</div>\n",
              "    <div class=\"colab-df-buttons\">\n",
              "\n",
              "  <div class=\"colab-df-container\">\n",
              "    <button class=\"colab-df-convert\" onclick=\"convertToInteractive('df-d35a7a51-aff5-46c5-ab19-0673cc0621e8')\"\n",
              "            title=\"Convert this dataframe to an interactive table.\"\n",
              "            style=\"display:none;\">\n",
              "\n",
              "  <svg xmlns=\"http://www.w3.org/2000/svg\" height=\"24px\" viewBox=\"0 -960 960 960\">\n",
              "    <path d=\"M120-120v-720h720v720H120Zm60-500h600v-160H180v160Zm220 220h160v-160H400v160Zm0 220h160v-160H400v160ZM180-400h160v-160H180v160Zm440 0h160v-160H620v160ZM180-180h160v-160H180v160Zm440 0h160v-160H620v160Z\"/>\n",
              "  </svg>\n",
              "    </button>\n",
              "\n",
              "  <style>\n",
              "    .colab-df-container {\n",
              "      display:flex;\n",
              "      gap: 12px;\n",
              "    }\n",
              "\n",
              "    .colab-df-convert {\n",
              "      background-color: #E8F0FE;\n",
              "      border: none;\n",
              "      border-radius: 50%;\n",
              "      cursor: pointer;\n",
              "      display: none;\n",
              "      fill: #1967D2;\n",
              "      height: 32px;\n",
              "      padding: 0 0 0 0;\n",
              "      width: 32px;\n",
              "    }\n",
              "\n",
              "    .colab-df-convert:hover {\n",
              "      background-color: #E2EBFA;\n",
              "      box-shadow: 0px 1px 2px rgba(60, 64, 67, 0.3), 0px 1px 3px 1px rgba(60, 64, 67, 0.15);\n",
              "      fill: #174EA6;\n",
              "    }\n",
              "\n",
              "    .colab-df-buttons div {\n",
              "      margin-bottom: 4px;\n",
              "    }\n",
              "\n",
              "    [theme=dark] .colab-df-convert {\n",
              "      background-color: #3B4455;\n",
              "      fill: #D2E3FC;\n",
              "    }\n",
              "\n",
              "    [theme=dark] .colab-df-convert:hover {\n",
              "      background-color: #434B5C;\n",
              "      box-shadow: 0px 1px 3px 1px rgba(0, 0, 0, 0.15);\n",
              "      filter: drop-shadow(0px 1px 2px rgba(0, 0, 0, 0.3));\n",
              "      fill: #FFFFFF;\n",
              "    }\n",
              "  </style>\n",
              "\n",
              "    <script>\n",
              "      const buttonEl =\n",
              "        document.querySelector('#df-d35a7a51-aff5-46c5-ab19-0673cc0621e8 button.colab-df-convert');\n",
              "      buttonEl.style.display =\n",
              "        google.colab.kernel.accessAllowed ? 'block' : 'none';\n",
              "\n",
              "      async function convertToInteractive(key) {\n",
              "        const element = document.querySelector('#df-d35a7a51-aff5-46c5-ab19-0673cc0621e8');\n",
              "        const dataTable =\n",
              "          await google.colab.kernel.invokeFunction('convertToInteractive',\n",
              "                                                    [key], {});\n",
              "        if (!dataTable) return;\n",
              "\n",
              "        const docLinkHtml = 'Like what you see? Visit the ' +\n",
              "          '<a target=\"_blank\" href=https://colab.research.google.com/notebooks/data_table.ipynb>data table notebook</a>'\n",
              "          + ' to learn more about interactive tables.';\n",
              "        element.innerHTML = '';\n",
              "        dataTable['output_type'] = 'display_data';\n",
              "        await google.colab.output.renderOutput(dataTable, element);\n",
              "        const docLink = document.createElement('div');\n",
              "        docLink.innerHTML = docLinkHtml;\n",
              "        element.appendChild(docLink);\n",
              "      }\n",
              "    </script>\n",
              "  </div>\n",
              "\n",
              "\n",
              "<div id=\"df-4252e268-4eed-471c-a98e-dba39d1377ad\">\n",
              "  <button class=\"colab-df-quickchart\" onclick=\"quickchart('df-4252e268-4eed-471c-a98e-dba39d1377ad')\"\n",
              "            title=\"Suggest charts\"\n",
              "            style=\"display:none;\">\n",
              "\n",
              "<svg xmlns=\"http://www.w3.org/2000/svg\" height=\"24px\"viewBox=\"0 0 24 24\"\n",
              "     width=\"24px\">\n",
              "    <g>\n",
              "        <path d=\"M19 3H5c-1.1 0-2 .9-2 2v14c0 1.1.9 2 2 2h14c1.1 0 2-.9 2-2V5c0-1.1-.9-2-2-2zM9 17H7v-7h2v7zm4 0h-2V7h2v10zm4 0h-2v-4h2v4z\"/>\n",
              "    </g>\n",
              "</svg>\n",
              "  </button>\n",
              "\n",
              "<style>\n",
              "  .colab-df-quickchart {\n",
              "      --bg-color: #E8F0FE;\n",
              "      --fill-color: #1967D2;\n",
              "      --hover-bg-color: #E2EBFA;\n",
              "      --hover-fill-color: #174EA6;\n",
              "      --disabled-fill-color: #AAA;\n",
              "      --disabled-bg-color: #DDD;\n",
              "  }\n",
              "\n",
              "  [theme=dark] .colab-df-quickchart {\n",
              "      --bg-color: #3B4455;\n",
              "      --fill-color: #D2E3FC;\n",
              "      --hover-bg-color: #434B5C;\n",
              "      --hover-fill-color: #FFFFFF;\n",
              "      --disabled-bg-color: #3B4455;\n",
              "      --disabled-fill-color: #666;\n",
              "  }\n",
              "\n",
              "  .colab-df-quickchart {\n",
              "    background-color: var(--bg-color);\n",
              "    border: none;\n",
              "    border-radius: 50%;\n",
              "    cursor: pointer;\n",
              "    display: none;\n",
              "    fill: var(--fill-color);\n",
              "    height: 32px;\n",
              "    padding: 0;\n",
              "    width: 32px;\n",
              "  }\n",
              "\n",
              "  .colab-df-quickchart:hover {\n",
              "    background-color: var(--hover-bg-color);\n",
              "    box-shadow: 0 1px 2px rgba(60, 64, 67, 0.3), 0 1px 3px 1px rgba(60, 64, 67, 0.15);\n",
              "    fill: var(--button-hover-fill-color);\n",
              "  }\n",
              "\n",
              "  .colab-df-quickchart-complete:disabled,\n",
              "  .colab-df-quickchart-complete:disabled:hover {\n",
              "    background-color: var(--disabled-bg-color);\n",
              "    fill: var(--disabled-fill-color);\n",
              "    box-shadow: none;\n",
              "  }\n",
              "\n",
              "  .colab-df-spinner {\n",
              "    border: 2px solid var(--fill-color);\n",
              "    border-color: transparent;\n",
              "    border-bottom-color: var(--fill-color);\n",
              "    animation:\n",
              "      spin 1s steps(1) infinite;\n",
              "  }\n",
              "\n",
              "  @keyframes spin {\n",
              "    0% {\n",
              "      border-color: transparent;\n",
              "      border-bottom-color: var(--fill-color);\n",
              "      border-left-color: var(--fill-color);\n",
              "    }\n",
              "    20% {\n",
              "      border-color: transparent;\n",
              "      border-left-color: var(--fill-color);\n",
              "      border-top-color: var(--fill-color);\n",
              "    }\n",
              "    30% {\n",
              "      border-color: transparent;\n",
              "      border-left-color: var(--fill-color);\n",
              "      border-top-color: var(--fill-color);\n",
              "      border-right-color: var(--fill-color);\n",
              "    }\n",
              "    40% {\n",
              "      border-color: transparent;\n",
              "      border-right-color: var(--fill-color);\n",
              "      border-top-color: var(--fill-color);\n",
              "    }\n",
              "    60% {\n",
              "      border-color: transparent;\n",
              "      border-right-color: var(--fill-color);\n",
              "    }\n",
              "    80% {\n",
              "      border-color: transparent;\n",
              "      border-right-color: var(--fill-color);\n",
              "      border-bottom-color: var(--fill-color);\n",
              "    }\n",
              "    90% {\n",
              "      border-color: transparent;\n",
              "      border-bottom-color: var(--fill-color);\n",
              "    }\n",
              "  }\n",
              "</style>\n",
              "\n",
              "  <script>\n",
              "    async function quickchart(key) {\n",
              "      const quickchartButtonEl =\n",
              "        document.querySelector('#' + key + ' button');\n",
              "      quickchartButtonEl.disabled = true;  // To prevent multiple clicks.\n",
              "      quickchartButtonEl.classList.add('colab-df-spinner');\n",
              "      try {\n",
              "        const charts = await google.colab.kernel.invokeFunction(\n",
              "            'suggestCharts', [key], {});\n",
              "      } catch (error) {\n",
              "        console.error('Error during call to suggestCharts:', error);\n",
              "      }\n",
              "      quickchartButtonEl.classList.remove('colab-df-spinner');\n",
              "      quickchartButtonEl.classList.add('colab-df-quickchart-complete');\n",
              "    }\n",
              "    (() => {\n",
              "      let quickchartButtonEl =\n",
              "        document.querySelector('#df-4252e268-4eed-471c-a98e-dba39d1377ad button');\n",
              "      quickchartButtonEl.style.display =\n",
              "        google.colab.kernel.accessAllowed ? 'block' : 'none';\n",
              "    })();\n",
              "  </script>\n",
              "</div>\n",
              "    </div>\n",
              "  </div>\n"
            ]
          },
          "metadata": {},
          "execution_count": 3
        }
      ]
    },
    {
      "cell_type": "code",
      "source": [
        "len(df)"
      ],
      "metadata": {
        "colab": {
          "base_uri": "https://localhost:8080/"
        },
        "id": "szk2ZJXrHJC4",
        "outputId": "8836c1d7-2cc4-4245-af9f-32c9940d132f"
      },
      "execution_count": 4,
      "outputs": [
        {
          "output_type": "execute_result",
          "data": {
            "text/plain": [
              "197161"
            ]
          },
          "metadata": {},
          "execution_count": 4
        }
      ]
    },
    {
      "cell_type": "code",
      "source": [
        "# How many data do we have?\n",
        "print('There are', df.shape[0], 'data in this dataset')\n",
        "\n",
        "# Do we have duplicates?\n",
        "print('Number of Duplicates:', len(df[df.duplicated()]))\n",
        "\n",
        "# Do we have missing values?\n",
        "missing_values = df.isnull().sum()\n",
        "print('Number of Missing Values by column:\\n',missing_values)\n",
        "\n",
        "print('Number of Missing Values:', df.isnull().sum().sum())\n",
        "\n",
        "df.replace(\"\", np.nan, inplace=True)\n",
        "missing_values = df.isnull().sum()\n",
        "print('Number of Missing Values by column after replacement:\\n',missing_values)\n",
        "print('Number of Missing Values after replacement:', df.isnull().sum().sum())"
      ],
      "metadata": {
        "colab": {
          "base_uri": "https://localhost:8080/"
        },
        "id": "EGpn5dqR1Fu6",
        "outputId": "5f9e076a-23dc-4b39-9d82-f798b8318219"
      },
      "execution_count": 5,
      "outputs": [
        {
          "output_type": "stream",
          "name": "stdout",
          "text": [
            "There are 197161 data in this dataset\n",
            "Number of Duplicates: 0\n",
            "Number of Missing Values by column:\n",
            " SN           0\n",
            "Commodity    0\n",
            "Unit         0\n",
            "Minimum      0\n",
            "Maximum      0\n",
            "Average      0\n",
            "dtype: int64\n",
            "Number of Missing Values: 0\n",
            "Number of Missing Values by column after replacement:\n",
            " SN           0\n",
            "Commodity    0\n",
            "Unit         0\n",
            "Minimum      0\n",
            "Maximum      0\n",
            "Average      0\n",
            "dtype: int64\n",
            "Number of Missing Values after replacement: 0\n"
          ]
        }
      ]
    },
    {
      "cell_type": "code",
      "source": [
        "# Commodity is string value\n",
        "df['Commodity'] = df['Commodity'].astype(str)"
      ],
      "metadata": {
        "id": "ljUPDJNN1Jxf"
      },
      "execution_count": 6,
      "outputs": []
    },
    {
      "cell_type": "code",
      "source": [
        "#find 10 comm0dities\n",
        "top_commodities = df['Commodity'].value_counts().nlargest(10).index.tolist()\n",
        "top_commodities"
      ],
      "metadata": {
        "colab": {
          "base_uri": "https://localhost:8080/"
        },
        "id": "06xBZqdy1LCA",
        "outputId": "6f50cb0a-369b-4a39-9b38-a426639b7a6f"
      },
      "execution_count": 7,
      "outputs": [
        {
          "output_type": "execute_result",
          "data": {
            "text/plain": [
              "['Ginger',\n",
              " 'Cauli Local',\n",
              " 'Cabbage(Local)',\n",
              " 'Chilli Dry',\n",
              " 'Raddish White(Local)',\n",
              " 'Potato Red',\n",
              " 'Bamboo Shoot',\n",
              " 'Banana',\n",
              " 'Brd Leaf Mustard',\n",
              " 'Onion Dry (Indian)']"
            ]
          },
          "metadata": {},
          "execution_count": 7
        }
      ]
    },
    {
      "cell_type": "code",
      "source": [
        "df = df[df.Commodity == 'Ginger']\n",
        "df.drop(['Commodity'],1,inplace=True)"
      ],
      "metadata": {
        "colab": {
          "base_uri": "https://localhost:8080/"
        },
        "id": "nLofQkPa1Noc",
        "outputId": "b51db6f7-db3c-41d1-92dc-73cf11458424"
      },
      "execution_count": 8,
      "outputs": [
        {
          "output_type": "stream",
          "name": "stderr",
          "text": [
            "<ipython-input-8-749f209da325>:2: FutureWarning: In a future version of pandas all arguments of DataFrame.drop except for the argument 'labels' will be keyword-only.\n",
            "  df.drop(['Commodity'],1,inplace=True)\n",
            "<ipython-input-8-749f209da325>:2: SettingWithCopyWarning: \n",
            "A value is trying to be set on a copy of a slice from a DataFrame\n",
            "\n",
            "See the caveats in the documentation: https://pandas.pydata.org/pandas-docs/stable/user_guide/indexing.html#returning-a-view-versus-a-copy\n",
            "  df.drop(['Commodity'],1,inplace=True)\n"
          ]
        }
      ]
    },
    {
      "cell_type": "code",
      "source": [
        "df"
      ],
      "metadata": {
        "colab": {
          "base_uri": "https://localhost:8080/",
          "height": 455
        },
        "id": "ZGz2aOFK1RbU",
        "outputId": "9eb1d5f3-74d5-4655-d8b5-04de40f44177"
      },
      "execution_count": 9,
      "outputs": [
        {
          "output_type": "execute_result",
          "data": {
            "text/plain": [
              "                SN Unit  Minimum  Maximum  Average\n",
              "Date                                              \n",
              "2013-06-16      63   Kg    140.0    150.0    145.0\n",
              "2013-06-17     136   Kg    140.0    150.0    145.0\n",
              "2013-06-18     209   Kg    140.0    150.0    145.0\n",
              "2013-06-19     282   Kg    140.0    150.0    145.0\n",
              "2013-06-20     356   Kg    140.0    150.0    145.0\n",
              "...            ...  ...      ...      ...      ...\n",
              "2021-05-09  196783   Kg     60.0     80.0     70.0\n",
              "2021-05-10  196874   Kg     70.0     80.0     75.0\n",
              "2021-05-11  196964   Kg     70.0     80.0     75.0\n",
              "2021-05-12  197055   Kg     90.0    100.0     95.0\n",
              "2021-05-13  197146   Kg     80.0     90.0     85.0\n",
              "\n",
              "[2751 rows x 5 columns]"
            ],
            "text/html": [
              "\n",
              "  <div id=\"df-8fa1271d-e688-4202-b340-fa2f24ef10a6\" class=\"colab-df-container\">\n",
              "    <div>\n",
              "<style scoped>\n",
              "    .dataframe tbody tr th:only-of-type {\n",
              "        vertical-align: middle;\n",
              "    }\n",
              "\n",
              "    .dataframe tbody tr th {\n",
              "        vertical-align: top;\n",
              "    }\n",
              "\n",
              "    .dataframe thead th {\n",
              "        text-align: right;\n",
              "    }\n",
              "</style>\n",
              "<table border=\"1\" class=\"dataframe\">\n",
              "  <thead>\n",
              "    <tr style=\"text-align: right;\">\n",
              "      <th></th>\n",
              "      <th>SN</th>\n",
              "      <th>Unit</th>\n",
              "      <th>Minimum</th>\n",
              "      <th>Maximum</th>\n",
              "      <th>Average</th>\n",
              "    </tr>\n",
              "    <tr>\n",
              "      <th>Date</th>\n",
              "      <th></th>\n",
              "      <th></th>\n",
              "      <th></th>\n",
              "      <th></th>\n",
              "      <th></th>\n",
              "    </tr>\n",
              "  </thead>\n",
              "  <tbody>\n",
              "    <tr>\n",
              "      <th>2013-06-16</th>\n",
              "      <td>63</td>\n",
              "      <td>Kg</td>\n",
              "      <td>140.0</td>\n",
              "      <td>150.0</td>\n",
              "      <td>145.0</td>\n",
              "    </tr>\n",
              "    <tr>\n",
              "      <th>2013-06-17</th>\n",
              "      <td>136</td>\n",
              "      <td>Kg</td>\n",
              "      <td>140.0</td>\n",
              "      <td>150.0</td>\n",
              "      <td>145.0</td>\n",
              "    </tr>\n",
              "    <tr>\n",
              "      <th>2013-06-18</th>\n",
              "      <td>209</td>\n",
              "      <td>Kg</td>\n",
              "      <td>140.0</td>\n",
              "      <td>150.0</td>\n",
              "      <td>145.0</td>\n",
              "    </tr>\n",
              "    <tr>\n",
              "      <th>2013-06-19</th>\n",
              "      <td>282</td>\n",
              "      <td>Kg</td>\n",
              "      <td>140.0</td>\n",
              "      <td>150.0</td>\n",
              "      <td>145.0</td>\n",
              "    </tr>\n",
              "    <tr>\n",
              "      <th>2013-06-20</th>\n",
              "      <td>356</td>\n",
              "      <td>Kg</td>\n",
              "      <td>140.0</td>\n",
              "      <td>150.0</td>\n",
              "      <td>145.0</td>\n",
              "    </tr>\n",
              "    <tr>\n",
              "      <th>...</th>\n",
              "      <td>...</td>\n",
              "      <td>...</td>\n",
              "      <td>...</td>\n",
              "      <td>...</td>\n",
              "      <td>...</td>\n",
              "    </tr>\n",
              "    <tr>\n",
              "      <th>2021-05-09</th>\n",
              "      <td>196783</td>\n",
              "      <td>Kg</td>\n",
              "      <td>60.0</td>\n",
              "      <td>80.0</td>\n",
              "      <td>70.0</td>\n",
              "    </tr>\n",
              "    <tr>\n",
              "      <th>2021-05-10</th>\n",
              "      <td>196874</td>\n",
              "      <td>Kg</td>\n",
              "      <td>70.0</td>\n",
              "      <td>80.0</td>\n",
              "      <td>75.0</td>\n",
              "    </tr>\n",
              "    <tr>\n",
              "      <th>2021-05-11</th>\n",
              "      <td>196964</td>\n",
              "      <td>Kg</td>\n",
              "      <td>70.0</td>\n",
              "      <td>80.0</td>\n",
              "      <td>75.0</td>\n",
              "    </tr>\n",
              "    <tr>\n",
              "      <th>2021-05-12</th>\n",
              "      <td>197055</td>\n",
              "      <td>Kg</td>\n",
              "      <td>90.0</td>\n",
              "      <td>100.0</td>\n",
              "      <td>95.0</td>\n",
              "    </tr>\n",
              "    <tr>\n",
              "      <th>2021-05-13</th>\n",
              "      <td>197146</td>\n",
              "      <td>Kg</td>\n",
              "      <td>80.0</td>\n",
              "      <td>90.0</td>\n",
              "      <td>85.0</td>\n",
              "    </tr>\n",
              "  </tbody>\n",
              "</table>\n",
              "<p>2751 rows × 5 columns</p>\n",
              "</div>\n",
              "    <div class=\"colab-df-buttons\">\n",
              "\n",
              "  <div class=\"colab-df-container\">\n",
              "    <button class=\"colab-df-convert\" onclick=\"convertToInteractive('df-8fa1271d-e688-4202-b340-fa2f24ef10a6')\"\n",
              "            title=\"Convert this dataframe to an interactive table.\"\n",
              "            style=\"display:none;\">\n",
              "\n",
              "  <svg xmlns=\"http://www.w3.org/2000/svg\" height=\"24px\" viewBox=\"0 -960 960 960\">\n",
              "    <path d=\"M120-120v-720h720v720H120Zm60-500h600v-160H180v160Zm220 220h160v-160H400v160Zm0 220h160v-160H400v160ZM180-400h160v-160H180v160Zm440 0h160v-160H620v160ZM180-180h160v-160H180v160Zm440 0h160v-160H620v160Z\"/>\n",
              "  </svg>\n",
              "    </button>\n",
              "\n",
              "  <style>\n",
              "    .colab-df-container {\n",
              "      display:flex;\n",
              "      gap: 12px;\n",
              "    }\n",
              "\n",
              "    .colab-df-convert {\n",
              "      background-color: #E8F0FE;\n",
              "      border: none;\n",
              "      border-radius: 50%;\n",
              "      cursor: pointer;\n",
              "      display: none;\n",
              "      fill: #1967D2;\n",
              "      height: 32px;\n",
              "      padding: 0 0 0 0;\n",
              "      width: 32px;\n",
              "    }\n",
              "\n",
              "    .colab-df-convert:hover {\n",
              "      background-color: #E2EBFA;\n",
              "      box-shadow: 0px 1px 2px rgba(60, 64, 67, 0.3), 0px 1px 3px 1px rgba(60, 64, 67, 0.15);\n",
              "      fill: #174EA6;\n",
              "    }\n",
              "\n",
              "    .colab-df-buttons div {\n",
              "      margin-bottom: 4px;\n",
              "    }\n",
              "\n",
              "    [theme=dark] .colab-df-convert {\n",
              "      background-color: #3B4455;\n",
              "      fill: #D2E3FC;\n",
              "    }\n",
              "\n",
              "    [theme=dark] .colab-df-convert:hover {\n",
              "      background-color: #434B5C;\n",
              "      box-shadow: 0px 1px 3px 1px rgba(0, 0, 0, 0.15);\n",
              "      filter: drop-shadow(0px 1px 2px rgba(0, 0, 0, 0.3));\n",
              "      fill: #FFFFFF;\n",
              "    }\n",
              "  </style>\n",
              "\n",
              "    <script>\n",
              "      const buttonEl =\n",
              "        document.querySelector('#df-8fa1271d-e688-4202-b340-fa2f24ef10a6 button.colab-df-convert');\n",
              "      buttonEl.style.display =\n",
              "        google.colab.kernel.accessAllowed ? 'block' : 'none';\n",
              "\n",
              "      async function convertToInteractive(key) {\n",
              "        const element = document.querySelector('#df-8fa1271d-e688-4202-b340-fa2f24ef10a6');\n",
              "        const dataTable =\n",
              "          await google.colab.kernel.invokeFunction('convertToInteractive',\n",
              "                                                    [key], {});\n",
              "        if (!dataTable) return;\n",
              "\n",
              "        const docLinkHtml = 'Like what you see? Visit the ' +\n",
              "          '<a target=\"_blank\" href=https://colab.research.google.com/notebooks/data_table.ipynb>data table notebook</a>'\n",
              "          + ' to learn more about interactive tables.';\n",
              "        element.innerHTML = '';\n",
              "        dataTable['output_type'] = 'display_data';\n",
              "        await google.colab.output.renderOutput(dataTable, element);\n",
              "        const docLink = document.createElement('div');\n",
              "        docLink.innerHTML = docLinkHtml;\n",
              "        element.appendChild(docLink);\n",
              "      }\n",
              "    </script>\n",
              "  </div>\n",
              "\n",
              "\n",
              "<div id=\"df-f3c51912-3a59-4707-bffe-88b5918ff8f0\">\n",
              "  <button class=\"colab-df-quickchart\" onclick=\"quickchart('df-f3c51912-3a59-4707-bffe-88b5918ff8f0')\"\n",
              "            title=\"Suggest charts\"\n",
              "            style=\"display:none;\">\n",
              "\n",
              "<svg xmlns=\"http://www.w3.org/2000/svg\" height=\"24px\"viewBox=\"0 0 24 24\"\n",
              "     width=\"24px\">\n",
              "    <g>\n",
              "        <path d=\"M19 3H5c-1.1 0-2 .9-2 2v14c0 1.1.9 2 2 2h14c1.1 0 2-.9 2-2V5c0-1.1-.9-2-2-2zM9 17H7v-7h2v7zm4 0h-2V7h2v10zm4 0h-2v-4h2v4z\"/>\n",
              "    </g>\n",
              "</svg>\n",
              "  </button>\n",
              "\n",
              "<style>\n",
              "  .colab-df-quickchart {\n",
              "      --bg-color: #E8F0FE;\n",
              "      --fill-color: #1967D2;\n",
              "      --hover-bg-color: #E2EBFA;\n",
              "      --hover-fill-color: #174EA6;\n",
              "      --disabled-fill-color: #AAA;\n",
              "      --disabled-bg-color: #DDD;\n",
              "  }\n",
              "\n",
              "  [theme=dark] .colab-df-quickchart {\n",
              "      --bg-color: #3B4455;\n",
              "      --fill-color: #D2E3FC;\n",
              "      --hover-bg-color: #434B5C;\n",
              "      --hover-fill-color: #FFFFFF;\n",
              "      --disabled-bg-color: #3B4455;\n",
              "      --disabled-fill-color: #666;\n",
              "  }\n",
              "\n",
              "  .colab-df-quickchart {\n",
              "    background-color: var(--bg-color);\n",
              "    border: none;\n",
              "    border-radius: 50%;\n",
              "    cursor: pointer;\n",
              "    display: none;\n",
              "    fill: var(--fill-color);\n",
              "    height: 32px;\n",
              "    padding: 0;\n",
              "    width: 32px;\n",
              "  }\n",
              "\n",
              "  .colab-df-quickchart:hover {\n",
              "    background-color: var(--hover-bg-color);\n",
              "    box-shadow: 0 1px 2px rgba(60, 64, 67, 0.3), 0 1px 3px 1px rgba(60, 64, 67, 0.15);\n",
              "    fill: var(--button-hover-fill-color);\n",
              "  }\n",
              "\n",
              "  .colab-df-quickchart-complete:disabled,\n",
              "  .colab-df-quickchart-complete:disabled:hover {\n",
              "    background-color: var(--disabled-bg-color);\n",
              "    fill: var(--disabled-fill-color);\n",
              "    box-shadow: none;\n",
              "  }\n",
              "\n",
              "  .colab-df-spinner {\n",
              "    border: 2px solid var(--fill-color);\n",
              "    border-color: transparent;\n",
              "    border-bottom-color: var(--fill-color);\n",
              "    animation:\n",
              "      spin 1s steps(1) infinite;\n",
              "  }\n",
              "\n",
              "  @keyframes spin {\n",
              "    0% {\n",
              "      border-color: transparent;\n",
              "      border-bottom-color: var(--fill-color);\n",
              "      border-left-color: var(--fill-color);\n",
              "    }\n",
              "    20% {\n",
              "      border-color: transparent;\n",
              "      border-left-color: var(--fill-color);\n",
              "      border-top-color: var(--fill-color);\n",
              "    }\n",
              "    30% {\n",
              "      border-color: transparent;\n",
              "      border-left-color: var(--fill-color);\n",
              "      border-top-color: var(--fill-color);\n",
              "      border-right-color: var(--fill-color);\n",
              "    }\n",
              "    40% {\n",
              "      border-color: transparent;\n",
              "      border-right-color: var(--fill-color);\n",
              "      border-top-color: var(--fill-color);\n",
              "    }\n",
              "    60% {\n",
              "      border-color: transparent;\n",
              "      border-right-color: var(--fill-color);\n",
              "    }\n",
              "    80% {\n",
              "      border-color: transparent;\n",
              "      border-right-color: var(--fill-color);\n",
              "      border-bottom-color: var(--fill-color);\n",
              "    }\n",
              "    90% {\n",
              "      border-color: transparent;\n",
              "      border-bottom-color: var(--fill-color);\n",
              "    }\n",
              "  }\n",
              "</style>\n",
              "\n",
              "  <script>\n",
              "    async function quickchart(key) {\n",
              "      const quickchartButtonEl =\n",
              "        document.querySelector('#' + key + ' button');\n",
              "      quickchartButtonEl.disabled = true;  // To prevent multiple clicks.\n",
              "      quickchartButtonEl.classList.add('colab-df-spinner');\n",
              "      try {\n",
              "        const charts = await google.colab.kernel.invokeFunction(\n",
              "            'suggestCharts', [key], {});\n",
              "      } catch (error) {\n",
              "        console.error('Error during call to suggestCharts:', error);\n",
              "      }\n",
              "      quickchartButtonEl.classList.remove('colab-df-spinner');\n",
              "      quickchartButtonEl.classList.add('colab-df-quickchart-complete');\n",
              "    }\n",
              "    (() => {\n",
              "      let quickchartButtonEl =\n",
              "        document.querySelector('#df-f3c51912-3a59-4707-bffe-88b5918ff8f0 button');\n",
              "      quickchartButtonEl.style.display =\n",
              "        google.colab.kernel.accessAllowed ? 'block' : 'none';\n",
              "    })();\n",
              "  </script>\n",
              "</div>\n",
              "    </div>\n",
              "  </div>\n"
            ]
          },
          "metadata": {},
          "execution_count": 9
        }
      ]
    },
    {
      "cell_type": "code",
      "source": [
        "len(df) #ginger only"
      ],
      "metadata": {
        "colab": {
          "base_uri": "https://localhost:8080/"
        },
        "id": "w6Ar_3PD1dA3",
        "outputId": "a1b4a694-0acb-4102-8020-65384abe3c50"
      },
      "execution_count": 10,
      "outputs": [
        {
          "output_type": "execute_result",
          "data": {
            "text/plain": [
              "2751"
            ]
          },
          "metadata": {},
          "execution_count": 10
        }
      ]
    },
    {
      "cell_type": "code",
      "source": [
        "# get the first and last date from the index\n",
        "first_date = df.index.min().strftime('%Y-%m-%d')\n",
        "last_date = df.index.max().strftime('%Y-%m-%d')\n",
        "\n",
        "# combine the dates into a single string\n",
        "date_range = f\"{first_date} to {last_date}\"\n",
        "date_range"
      ],
      "metadata": {
        "colab": {
          "base_uri": "https://localhost:8080/",
          "height": 36
        },
        "id": "SZ_QGfOB1lQi",
        "outputId": "08d0dc2e-c2f3-463c-b12a-0d8f66190bf6"
      },
      "execution_count": 11,
      "outputs": [
        {
          "output_type": "execute_result",
          "data": {
            "text/plain": [
              "'2013-06-16 to 2021-05-13'"
            ],
            "application/vnd.google.colaboratory.intrinsic+json": {
              "type": "string"
            }
          },
          "metadata": {},
          "execution_count": 11
        }
      ]
    },
    {
      "cell_type": "code",
      "source": [
        "plt.figure(figsize=(10, 6))\n",
        "plt.plot(df.index, df['Average'])\n",
        "plt.title(f\"values from from {date_range}\", fontsize=16)\n",
        "plt.xlabel('Datetime')\n",
        "plt.ylabel('Average')\n",
        "plt.show()"
      ],
      "metadata": {
        "colab": {
          "base_uri": "https://localhost:8080/",
          "height": 566
        },
        "id": "vnAYubA_1oZ6",
        "outputId": "4806dc06-9a7d-4ebe-d0ff-f4bb91871ffa"
      },
      "execution_count": 12,
      "outputs": [
        {
          "output_type": "display_data",
          "data": {
            "text/plain": [
              "<Figure size 1000x600 with 1 Axes>"
            ],
            "image/png": "[encoded data removed]"
          },
          "metadata": {}
        }
      ]
    },
    {
      "cell_type": "code",
      "source": [
        "data = df.filter(['Average'])\n",
        "dataset = data.values\n",
        "data_train_len = int(np.ceil(len(dataset)* 0.8))\n",
        "\n",
        "print(data_train_len)"
      ],
      "metadata": {
        "colab": {
          "base_uri": "https://localhost:8080/"
        },
        "id": "Z6KUMAflNgqM",
        "outputId": "51ef9778-538d-46f5-d3ec-16ddad0ecc3e"
      },
      "execution_count": 13,
      "outputs": [
        {
          "output_type": "stream",
          "name": "stdout",
          "text": [
            "2201\n"
          ]
        }
      ]
    },
    {
      "cell_type": "code",
      "source": [
        "data_train = dataset[:data_train_len]\n",
        "#data_train = data_train.flatten()\n",
        "data_test = dataset[data_train_len:]\n",
        "#data_test = data_test.flatten()\n",
        "\n",
        "\n",
        "print(data_train.shape)\n",
        "print(data_test.shape)\n"
      ],
      "metadata": {
        "colab": {
          "base_uri": "https://localhost:8080/"
        },
        "id": "85VMm5fdNvg1",
        "outputId": "76d4afe6-b333-4133-b63e-15f0a3a81907"
      },
      "execution_count": 14,
      "outputs": [
        {
          "output_type": "stream",
          "name": "stdout",
          "text": [
            "(2201, 1)\n",
            "(550, 1)\n"
          ]
        }
      ]
    },
    {
      "cell_type": "code",
      "source": [
        "skala_data = MinMaxScaler(feature_range=(0,1))\n",
        "data_train_normalisasi = skala_data.fit_transform(data_train)\n",
        "data_train_normalisasi = data_train_normalisasi.flatten()\n",
        "\n",
        "data_test_normalisasi = skala_data.fit_transform(data_test)\n",
        "data_test_normalisasi = data_test_normalisasi.flatten()\n",
        "\n",
        "dataset_normalisasi = skala_data.fit_transform(dataset)\n",
        "\n"
      ],
      "metadata": {
        "id": "KQvro4-YQd7z"
      },
      "execution_count": 15,
      "outputs": []
    },
    {
      "cell_type": "code",
      "source": [
        "def windowed_dataset(series, window_size, batch_size, shuffle_buffer): #code ini mengubah series menjadi numpy yang dapat diterima oleh model\n",
        "    series = tf.expand_dims(series, axis=-1)\n",
        "    ds = tf.data.Dataset.from_tensor_slices(series)\n",
        "    ds = ds.window(window_size + 1, shift=1, drop_remainder=True)\n",
        "    ds = ds.flat_map(lambda w: w.batch(window_size + 1))\n",
        "    ds = ds.shuffle(shuffle_buffer)\n",
        "    ds = ds.map(lambda w: (w[:-1], w[-1:]))\n",
        "    return ds.batch(batch_size).prefetch(1)"
      ],
      "metadata": {
        "id": "pCs90ZYVImUJ"
      },
      "execution_count": 16,
      "outputs": []
    },
    {
      "cell_type": "code",
      "source": [
        "train_set = windowed_dataset(data_train_normalisasi, window_size=60, batch_size=100, shuffle_buffer=1000)\n",
        "validation_set = windowed_dataset(data_test_normalisasi, window_size=60, batch_size=100, shuffle_buffer=1000)\n",
        "# Reset states generated by Keras\n",
        "tf.keras.backend.clear_session()\n",
        "\n",
        "# Build the model\n",
        "model = tf.keras.models.Sequential([\n",
        "  tf.keras.layers.Bidirectional(tf.keras.layers.LSTM(128, return_sequences=True)),\n",
        "  tf.keras.layers.Bidirectional(tf.keras.layers.LSTM(128)),\n",
        "  tf.keras.layers.Dense(256, activation='relu'),\n",
        "  tf.keras.layers.Dropout(0.4),\n",
        "  tf.keras.layers.Dense(1),\n",
        "  tf.keras.layers.Lambda(lambda x: x * 100.0)\n",
        "])"
      ],
      "metadata": {
        "id": "DYH3kcOatr74"
      },
      "execution_count": 17,
      "outputs": []
    },
    {
      "cell_type": "code",
      "source": [
        "minMae = (dataset_normalisasi.max() - dataset_normalisasi.min()) * 10/100\n",
        "minMae"
      ],
      "metadata": {
        "colab": {
          "base_uri": "https://localhost:8080/"
        },
        "id": "HOouyYtWulCM",
        "outputId": "fa00a5fb-c21a-48a7-ae96-569d87bb561d"
      },
      "execution_count": 18,
      "outputs": [
        {
          "output_type": "execute_result",
          "data": {
            "text/plain": [
              "0.1"
            ]
          },
          "metadata": {},
          "execution_count": 18
        }
      ]
    },
    {
      "cell_type": "code",
      "source": [
        "# Set the training parameters\n",
        "class myEarlyStop(tf.keras.callbacks.Callback):\n",
        "  def on_epoch_end(self, epoch, logs={}):\n",
        "    if(logs.get('mae')<minMae and logs.get('val_mae')<minMae):\n",
        "      self.model.stop_training = True\n",
        "\n",
        "def scheduler(epoch, lr):\n",
        "  if epoch < 10:\n",
        "    return lr\n",
        "  else:\n",
        "    return lr * tf.math.exp(-0.1)\n",
        "\n",
        "callback = tf.keras.callbacks.LearningRateScheduler(scheduler)\n",
        "optimizer = tf.keras.optimizers.SGD(learning_rate=0.001, momentum=0.9)\n",
        "model.compile(loss=tf.keras.losses.Huber(),\n",
        "              optimizer=optimizer,\n",
        "              metrics=[\"mae\"])\n"
      ],
      "metadata": {
        "id": "M-EE1V2SuAQQ"
      },
      "execution_count": 19,
      "outputs": []
    },
    {
      "cell_type": "code",
      "source": [
        "history = model.fit(train_set, validation_data = (validation_set), epochs=100, callbacks=[callback,myEarlyStop()])"
      ],
      "metadata": {
        "colab": {
          "base_uri": "https://localhost:8080/"
        },
        "id": "HSbqKmuHuGvx",
        "outputId": "5312ef0e-5c7e-4410-cd8d-4a8c96f8c641"
      },
      "execution_count": 20,
      "outputs": [
        {
          "output_type": "stream",
          "name": "stdout",
          "text": [
            "Epoch 1/100\n",
            "22/22 [==============================] - 28s 877ms/step - loss: 3.8819 - mae: 4.3667 - val_loss: 2.0999 - val_mae: 2.5999 - lr: 0.0010\n",
            "Epoch 2/100\n",
            "22/22 [==============================] - 16s 712ms/step - loss: 2.2430 - mae: 2.7430 - val_loss: 1.9098 - val_mae: 2.4098 - lr: 0.0010\n",
            "Epoch 3/100\n",
            "22/22 [==============================] - 16s 709ms/step - loss: 2.1360 - mae: 2.6360 - val_loss: 1.7818 - val_mae: 2.2818 - lr: 0.0010\n",
            "Epoch 4/100\n",
            "22/22 [==============================] - 16s 705ms/step - loss: 2.1245 - mae: 2.6245 - val_loss: 1.7698 - val_mae: 2.2698 - lr: 0.0010\n",
            "Epoch 5/100\n",
            "22/22 [==============================] - 16s 736ms/step - loss: 2.1289 - mae: 2.6289 - val_loss: 1.7844 - val_mae: 2.2844 - lr: 0.0010\n",
            "Epoch 6/100\n",
            "22/22 [==============================] - 15s 680ms/step - loss: 2.1254 - mae: 2.6254 - val_loss: 1.7229 - val_mae: 2.2229 - lr: 0.0010\n",
            "Epoch 7/100\n",
            "22/22 [==============================] - 15s 652ms/step - loss: 2.1224 - mae: 2.6224 - val_loss: 1.7169 - val_mae: 2.2169 - lr: 0.0010\n",
            "Epoch 8/100\n",
            "22/22 [==============================] - 15s 661ms/step - loss: 2.1217 - mae: 2.6217 - val_loss: 1.7163 - val_mae: 2.2163 - lr: 0.0010\n",
            "Epoch 9/100\n",
            "22/22 [==============================] - 17s 792ms/step - loss: 2.1234 - mae: 2.6234 - val_loss: 1.7213 - val_mae: 2.2213 - lr: 0.0010\n",
            "Epoch 10/100\n",
            "22/22 [==============================] - 15s 691ms/step - loss: 2.1296 - mae: 2.6296 - val_loss: 1.7246 - val_mae: 2.2246 - lr: 0.0010\n",
            "Epoch 11/100\n",
            "22/22 [==============================] - 16s 680ms/step - loss: 7.3974 - mae: 7.8781 - val_loss: 16.6269 - val_mae: 17.1269 - lr: 9.0484e-04\n",
            "Epoch 12/100\n",
            "22/22 [==============================] - 15s 691ms/step - loss: 12.3060 - mae: 12.7875 - val_loss: 12.7374 - val_mae: 13.2374 - lr: 8.1873e-04\n",
            "Epoch 13/100\n",
            "22/22 [==============================] - 15s 697ms/step - loss: 5.8051 - mae: 6.2939 - val_loss: 1.2234 - val_mae: 1.7234 - lr: 7.4082e-04\n",
            "Epoch 14/100\n",
            "22/22 [==============================] - 15s 682ms/step - loss: 3.3979 - mae: 3.8553 - val_loss: 1.9591 - val_mae: 2.4591 - lr: 6.7032e-04\n",
            "Epoch 15/100\n",
            "22/22 [==============================] - 16s 719ms/step - loss: 10.2287 - mae: 10.7287 - val_loss: 10.5697 - val_mae: 11.0697 - lr: 6.0653e-04\n",
            "Epoch 16/100\n",
            "22/22 [==============================] - 15s 682ms/step - loss: 6.7902 - mae: 7.2762 - val_loss: 8.4719 - val_mae: 8.9719 - lr: 5.4881e-04\n",
            "Epoch 17/100\n",
            "22/22 [==============================] - 15s 656ms/step - loss: 4.3634 - mae: 4.8634 - val_loss: 1.9309 - val_mae: 2.4309 - lr: 4.9659e-04\n",
            "Epoch 18/100\n",
            "22/22 [==============================] - 15s 664ms/step - loss: 4.2940 - mae: 4.7898 - val_loss: 12.8007 - val_mae: 13.3007 - lr: 4.4933e-04\n",
            "Epoch 19/100\n",
            "22/22 [==============================] - 18s 800ms/step - loss: 5.9575 - mae: 6.4428 - val_loss: 0.0320 - val_mae: 0.2147 - lr: 4.0657e-04\n",
            "Epoch 20/100\n",
            "22/22 [==============================] - 15s 682ms/step - loss: 2.3624 - mae: 2.8048 - val_loss: 3.9452 - val_mae: 4.4452 - lr: 3.6788e-04\n",
            "Epoch 21/100\n",
            "22/22 [==============================] - 15s 680ms/step - loss: 4.3454 - mae: 4.8351 - val_loss: 5.6100 - val_mae: 6.1100 - lr: 3.3287e-04\n",
            "Epoch 22/100\n",
            "22/22 [==============================] - 16s 681ms/step - loss: 5.8878 - mae: 6.3781 - val_loss: 1.5472 - val_mae: 2.0472 - lr: 3.0119e-04\n",
            "Epoch 23/100\n",
            "22/22 [==============================] - 15s 688ms/step - loss: 3.6454 - mae: 4.1449 - val_loss: 5.2778 - val_mae: 5.7778 - lr: 2.7253e-04\n",
            "Epoch 24/100\n",
            "22/22 [==============================] - 15s 685ms/step - loss: 2.2680 - mae: 2.7144 - val_loss: 0.3668 - val_mae: 0.8430 - lr: 2.4660e-04\n",
            "Epoch 25/100\n",
            "22/22 [==============================] - 15s 683ms/step - loss: 1.8561 - mae: 2.3158 - val_loss: 1.7030 - val_mae: 2.2030 - lr: 2.2313e-04\n",
            "Epoch 26/100\n",
            "22/22 [==============================] - 15s 685ms/step - loss: 1.2044 - mae: 1.6667 - val_loss: 0.5890 - val_mae: 1.0879 - lr: 2.0190e-04\n",
            "Epoch 27/100\n",
            "22/22 [==============================] - 15s 683ms/step - loss: 0.3066 - mae: 0.7079 - val_loss: 0.1286 - val_mae: 0.4846 - lr: 1.8268e-04\n",
            "Epoch 28/100\n",
            "22/22 [==============================] - 15s 685ms/step - loss: 0.0459 - mae: 0.2519 - val_loss: 0.0134 - val_mae: 0.1336 - lr: 1.6530e-04\n",
            "Epoch 29/100\n",
            "22/22 [==============================] - 15s 685ms/step - loss: 0.0161 - mae: 0.1396 - val_loss: 0.0305 - val_mae: 0.2219 - lr: 1.4957e-04\n",
            "Epoch 30/100\n",
            "22/22 [==============================] - 15s 691ms/step - loss: 0.0187 - mae: 0.1556 - val_loss: 0.0111 - val_mae: 0.1139 - lr: 1.3534e-04\n",
            "Epoch 31/100\n",
            "22/22 [==============================] - 15s 689ms/step - loss: 0.0091 - mae: 0.1027 - val_loss: 0.0047 - val_mae: 0.0794 - lr: 1.2246e-04\n",
            "Epoch 32/100\n",
            "22/22 [==============================] - 15s 681ms/step - loss: 0.0083 - mae: 0.0959 - val_loss: 0.0044 - val_mae: 0.0723 - lr: 1.1080e-04\n"
          ]
        }
      ]
    },
    {
      "cell_type": "code",
      "source": [
        "mae = history.history['mae']\n",
        "val_mae = history.history['val_mae']\n",
        "loss = history.history['loss']\n",
        "val_loss = history.history['val_loss']"
      ],
      "metadata": {
        "id": "Kg4G-XxyTfm8"
      },
      "execution_count": 21,
      "outputs": []
    },
    {
      "cell_type": "code",
      "source": [
        "\n",
        "plt.plot(mae, 'b', label='mae')\n",
        "plt.plot(val_mae, 'g', label='val_mae')\n",
        "\n",
        "plt.xlabel('Epoch')\n",
        "plt.ylabel('MAE')\n",
        "plt.legend()\n",
        "plt.show()"
      ],
      "metadata": {
        "colab": {
          "base_uri": "https://localhost:8080/",
          "height": 449
        },
        "id": "D9m1oGEDTvmx",
        "outputId": "3706a05b-c704-491a-d12b-b7ecddf6cf04"
      },
      "execution_count": 22,
      "outputs": [
        {
          "output_type": "display_data",
          "data": {
            "text/plain": [
              "<Figure size 640x480 with 1 Axes>"
            ],
            "image/png": "[encoded data removed]"
          },
          "metadata": {}
        }
      ]
    },
    {
      "cell_type": "code",
      "source": [
        "plt.plot(loss, 'b', label='loss')\n",
        "plt.plot(val_loss, 'g', label='val_loss')\n",
        "\n",
        "plt.xlabel('Epoch')\n",
        "plt.ylabel('Loss')\n",
        "plt.legend()\n",
        "plt.show()"
      ],
      "metadata": {
        "id": "kk-0G__QTzKG",
        "outputId": "aa634dc4-7f8a-412d-be58-1e9b4983de2f",
        "colab": {
          "base_uri": "https://localhost:8080/",
          "height": 449
        }
      },
      "execution_count": 23,
      "outputs": [
        {
          "output_type": "display_data",
          "data": {
            "text/plain": [
              "<Figure size 640x480 with 1 Axes>"
            ],
            "image/png": "[encoded data removed]"
          },
          "metadata": {}
        }
      ]
    }
  ]
}