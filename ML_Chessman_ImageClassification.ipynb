{
  "nbformat": 4,
  "nbformat_minor": 0,
  "metadata": {
    "colab": {
      "provenance": []
    },
    "kernelspec": {
      "name": "python3",
      "display_name": "Python 3"
    },
    "language_info": {
      "name": "python"
    }
  },
  "cells": [
    {
      "cell_type": "markdown",
      "source": [
        "# UNDUH DATA"
      ],
      "metadata": {
        "id": "Av4QnUZFCiO0"
      }
    },
    {
      "cell_type": "code",
      "execution_count": null,
      "metadata": {
        "id": "6c7lxcbICUW5"
      },
      "outputs": [],
      "source": [
        "!wget --no-check-certificate \\\n",
        "    https://github.com/dicodingacademy/assets/raw/main/ml_pengembangan_academy/Chessman-image-dataset.zip \\\n",
        "    -O /tmp/Chessman-image-dataset.zip"
      ]
    },
    {
      "cell_type": "markdown",
      "source": [
        "# EKSTRAKSI FILE ZIP"
      ],
      "metadata": {
        "id": "awbA0B4rCsEP"
      }
    },
    {
      "cell_type": "code",
      "source": [
        "import os\n",
        "import zipfile\n",
        "local_zip = '/tmp/Chessman-image-dataset.zip'\n",
        "zip_ref = zipfile.ZipFile(local_zip, 'r')\n",
        "zip_ref.extractall('/tmp')\n",
        "zip_ref.close()"
      ],
      "metadata": {
        "id": "TIloHdqlCwcU"
      },
      "execution_count": null,
      "outputs": []
    },
    {
      "cell_type": "markdown",
      "source": [
        "# MELIHAT DIREKTORI PADA DATASET MENGGUNAKAN FUNGSI LISTDIR"
      ],
      "metadata": {
        "id": "qQzmTr2kC4vJ"
      }
    },
    {
      "cell_type": "code",
      "source": [
        "os.listdir('/tmp/Chessman-image-dataset/Chess')"
      ],
      "metadata": {
        "id": "RboeXjxjDC2G"
      },
      "execution_count": null,
      "outputs": []
    },
    {
      "cell_type": "markdown",
      "source": [
        "Terdapat 6 buah direktori"
      ],
      "metadata": {
        "id": "DNxVZgcqDKpw"
      }
    },
    {
      "cell_type": "markdown",
      "source": [
        "# MELIHAT JUMLAH GAMBAR PADA SETIAP DIREKTORI"
      ],
      "metadata": {
        "id": "cLUI2UMADbRA"
      }
    },
    {
      "cell_type": "code",
      "source": [
        "print('total pawn images :', len(os.listdir('/tmp/Chessman-image-dataset/Chess/Pawn')))\n",
        "print('total King images :', len(os.listdir('/tmp/Chessman-image-dataset/Chess/King')))\n",
        "print('total Knight images :', len(os.listdir('/tmp/Chessman-image-dataset/Chess/Knight')))"
      ],
      "metadata": {
        "id": "hA_iRpcpDNTi"
      },
      "execution_count": null,
      "outputs": []
    },
    {
      "cell_type": "markdown",
      "source": [
        "# MELIHAT GAMBAR PADA DATASET"
      ],
      "metadata": {
        "id": "T2xcoHrtDlQl"
      }
    },
    {
      "cell_type": "code",
      "source": [
        "from tensorflow.keras.preprocessing import image\n",
        "import matplotlib.pyplot as plt\n",
        "import matplotlib.image as mpimg\n",
        "%matplotlib inline\n",
        "img = image.load_img('/tmp/Chessman-image-dataset/Chess/King/00000145.png')\n",
        "imgplot = plt.imshow(img)"
      ],
      "metadata": {
        "id": "ZD-rQ9_LDm89"
      },
      "execution_count": null,
      "outputs": []
    },
    {
      "cell_type": "markdown",
      "source": [
        "# AUGMENTASI GAMBAR DG ImageDataGenerator"
      ],
      "metadata": {
        "id": "waP7fXeFD3mN"
      }
    },
    {
      "cell_type": "code",
      "source": [
        "from tensorflow.keras.preprocessing.image import ImageDataGenerator\n",
        "\n",
        "\n",
        "train_dir = os.path.join('/tmp/Chessman-image-dataset/Chess')\n",
        "train_datagen = ImageDataGenerator(rescale=1./255,\n",
        "    rotation_range=20,\n",
        "    zoom_range=0.2,\n",
        "    shear_range=0.2,\n",
        "    fill_mode = 'nearest',\n",
        "    validation_split=0.1) #fungsi ini untuk membagi mana data training dan mana data testing"
      ],
      "metadata": {
        "id": "KA2ESJbHD7Ek"
      },
      "execution_count": null,
      "outputs": []
    },
    {
      "cell_type": "code",
      "source": [
        "train_generator = train_datagen.flow_from_directory(\n",
        "    train_dir,\n",
        "    target_size=(150, 150),\n",
        "    batch_size=8,\n",
        "    class_mode='categorical',\n",
        "    subset='training') # set as training data\n",
        "validation_generator = train_datagen.flow_from_directory(\n",
        "    train_dir, # same directory as training data\n",
        "    target_size=(150, 150),\n",
        "    batch_size=16,\n",
        "    class_mode='categorical',\n",
        "    subset='validation')"
      ],
      "metadata": {
        "id": "0UnhyWykEB40"
      },
      "execution_count": null,
      "outputs": []
    },
    {
      "cell_type": "markdown",
      "source": [
        "# BANGUN ARSITEKTUR MODEL PADA JUMLAH HIDDEN LAYER DAN PERSEPTRON"
      ],
      "metadata": {
        "id": "XbXaqUhUErQw"
      }
    },
    {
      "cell_type": "code",
      "source": [
        "import tensorflow as tf\n",
        "model = tf.keras.models.Sequential([\n",
        "    # Note the input shape is the desired size of the image 150x150 with 3 bytes color\n",
        "    tf.keras.layers.Conv2D(64, (3,3), activation='relu', input_shape=(150, 150, 3)),\n",
        "    tf.keras.layers.MaxPooling2D(2,2),\n",
        "    tf.keras.layers.Conv2D(32, (3,3), activation='relu'),\n",
        "    tf.keras.layers.MaxPooling2D(2,2),\n",
        "    tf.keras.layers.Dropout(0.4),\n",
        "    tf.keras.layers.Conv2D(64, (3,3), activation='relu'),\n",
        "    tf.keras.layers.MaxPooling2D(2,2),\n",
        "    tf.keras.layers.Dropout(0.4),\n",
        "    # Flatten the results to feed into a DNN\n",
        "    tf.keras.layers.Flatten(),\n",
        "    # 512 neuron hidden layer\n",
        "    tf.keras.layers.Dense(512, activation='relu'),\n",
        "    tf.keras.layers.Dense(256, activation='relu'),\n",
        "    tf.keras.layers.Dense(6, activation='softmax')\n",
        "])"
      ],
      "metadata": {
        "id": "WCabLuTcEzUP"
      },
      "execution_count": null,
      "outputs": []
    },
    {
      "cell_type": "markdown",
      "source": [
        "# TENTUKAN OPTIMAZER DAN LOSS FUNCTION"
      ],
      "metadata": {
        "id": "mL-SgPlAE7Rb"
      }
    },
    {
      "cell_type": "code",
      "source": [
        "model.compile(optimizer=tf.optimizers.Adam(),\n",
        "              loss='categorical_crossentropy',\n",
        "              metrics = ['accuracy'])"
      ],
      "metadata": {
        "id": "W6z3hEaKE9tD"
      },
      "execution_count": null,
      "outputs": []
    },
    {
      "cell_type": "markdown",
      "source": [
        "# JALANKAN MODEL DG FUNGSI FIT()"
      ],
      "metadata": {
        "id": "2wjL9f1oFADN"
      }
    },
    {
      "cell_type": "code",
      "source": [
        "history = model.fit(train_generator,\n",
        "                              validation_data=validation_generator,\n",
        "                              epochs=50,\n",
        "                              verbose=2)"
      ],
      "metadata": {
        "colab": {
          "base_uri": "https://localhost:8080/"
        },
        "id": "SoNw2DEaFC5i",
        "outputId": "94c87440-45e9-4a8a-de98-76e32ef9399a"
      },
      "execution_count": 13,
      "outputs": [
        {
          "output_type": "stream",
          "name": "stdout",
          "text": [
            "Epoch 1/50\n",
            "63/63 - 51s - loss: 1.8219 - accuracy: 0.1844 - val_loss: 1.7882 - val_accuracy: 0.1923 - 51s/epoch - 814ms/step\n",
            "Epoch 2/50\n",
            "63/63 - 43s - loss: 1.7875 - accuracy: 0.1884 - val_loss: 1.7821 - val_accuracy: 0.1923 - 43s/epoch - 684ms/step\n",
            "Epoch 3/50\n",
            "63/63 - 43s - loss: 1.7859 - accuracy: 0.1884 - val_loss: 1.7837 - val_accuracy: 0.1923 - 43s/epoch - 677ms/step\n",
            "Epoch 4/50\n",
            "63/63 - 42s - loss: 1.7677 - accuracy: 0.2265 - val_loss: 1.7795 - val_accuracy: 0.2115 - 42s/epoch - 671ms/step\n",
            "Epoch 5/50\n",
            "63/63 - 43s - loss: 1.7662 - accuracy: 0.2445 - val_loss: 1.7245 - val_accuracy: 0.2692 - 43s/epoch - 676ms/step\n",
            "Epoch 6/50\n",
            "63/63 - 42s - loss: 1.7039 - accuracy: 0.2705 - val_loss: 1.7665 - val_accuracy: 0.2885 - 42s/epoch - 671ms/step\n",
            "Epoch 7/50\n",
            "63/63 - 43s - loss: 1.6876 - accuracy: 0.2986 - val_loss: 1.6830 - val_accuracy: 0.3462 - 43s/epoch - 676ms/step\n",
            "Epoch 8/50\n",
            "63/63 - 41s - loss: 1.5870 - accuracy: 0.3246 - val_loss: 1.6722 - val_accuracy: 0.2692 - 41s/epoch - 650ms/step\n",
            "Epoch 9/50\n",
            "63/63 - 40s - loss: 1.5797 - accuracy: 0.3387 - val_loss: 1.7089 - val_accuracy: 0.3269 - 40s/epoch - 641ms/step\n",
            "Epoch 10/50\n",
            "63/63 - 40s - loss: 1.5463 - accuracy: 0.3547 - val_loss: 1.6757 - val_accuracy: 0.4038 - 40s/epoch - 636ms/step\n",
            "Epoch 11/50\n",
            "63/63 - 44s - loss: 1.5329 - accuracy: 0.3747 - val_loss: 1.6588 - val_accuracy: 0.3269 - 44s/epoch - 700ms/step\n",
            "Epoch 12/50\n",
            "63/63 - 40s - loss: 1.4303 - accuracy: 0.4449 - val_loss: 1.6089 - val_accuracy: 0.4038 - 40s/epoch - 639ms/step\n",
            "Epoch 13/50\n",
            "63/63 - 40s - loss: 1.4479 - accuracy: 0.4429 - val_loss: 1.6067 - val_accuracy: 0.3846 - 40s/epoch - 630ms/step\n",
            "Epoch 14/50\n",
            "63/63 - 40s - loss: 1.3653 - accuracy: 0.4649 - val_loss: 1.4630 - val_accuracy: 0.3462 - 40s/epoch - 628ms/step\n",
            "Epoch 15/50\n",
            "63/63 - 43s - loss: 1.2536 - accuracy: 0.5170 - val_loss: 1.5606 - val_accuracy: 0.3846 - 43s/epoch - 683ms/step\n",
            "Epoch 16/50\n",
            "63/63 - 41s - loss: 1.2210 - accuracy: 0.5130 - val_loss: 1.3786 - val_accuracy: 0.5385 - 41s/epoch - 647ms/step\n",
            "Epoch 17/50\n",
            "63/63 - 42s - loss: 1.1771 - accuracy: 0.5631 - val_loss: 1.6709 - val_accuracy: 0.3654 - 42s/epoch - 659ms/step\n",
            "Epoch 18/50\n",
            "63/63 - 41s - loss: 1.2015 - accuracy: 0.5251 - val_loss: 1.4939 - val_accuracy: 0.5000 - 41s/epoch - 646ms/step\n",
            "Epoch 19/50\n",
            "63/63 - 41s - loss: 1.0864 - accuracy: 0.5852 - val_loss: 1.4962 - val_accuracy: 0.4615 - 41s/epoch - 658ms/step\n",
            "Epoch 20/50\n",
            "63/63 - 41s - loss: 1.1023 - accuracy: 0.5952 - val_loss: 1.5819 - val_accuracy: 0.4615 - 41s/epoch - 657ms/step\n",
            "Epoch 21/50\n",
            "63/63 - 39s - loss: 1.0775 - accuracy: 0.5792 - val_loss: 1.5962 - val_accuracy: 0.4808 - 39s/epoch - 625ms/step\n",
            "Epoch 22/50\n",
            "63/63 - 40s - loss: 0.9685 - accuracy: 0.6353 - val_loss: 1.5327 - val_accuracy: 0.5192 - 40s/epoch - 628ms/step\n",
            "Epoch 23/50\n",
            "63/63 - 40s - loss: 1.0197 - accuracy: 0.6152 - val_loss: 1.6889 - val_accuracy: 0.3846 - 40s/epoch - 632ms/step\n",
            "Epoch 24/50\n",
            "63/63 - 38s - loss: 0.9552 - accuracy: 0.6212 - val_loss: 1.5232 - val_accuracy: 0.4038 - 38s/epoch - 601ms/step\n",
            "Epoch 25/50\n",
            "63/63 - 39s - loss: 0.9360 - accuracy: 0.6794 - val_loss: 1.6918 - val_accuracy: 0.3654 - 39s/epoch - 619ms/step\n",
            "Epoch 26/50\n",
            "63/63 - 40s - loss: 0.9256 - accuracy: 0.6874 - val_loss: 1.3181 - val_accuracy: 0.4808 - 40s/epoch - 630ms/step\n",
            "Epoch 27/50\n",
            "63/63 - 39s - loss: 0.8147 - accuracy: 0.7134 - val_loss: 1.4947 - val_accuracy: 0.5000 - 39s/epoch - 624ms/step\n",
            "Epoch 28/50\n",
            "63/63 - 40s - loss: 0.8315 - accuracy: 0.7054 - val_loss: 1.4620 - val_accuracy: 0.5192 - 40s/epoch - 630ms/step\n",
            "Epoch 29/50\n",
            "63/63 - 40s - loss: 0.8657 - accuracy: 0.6894 - val_loss: 1.4953 - val_accuracy: 0.4423 - 40s/epoch - 640ms/step\n",
            "Epoch 30/50\n",
            "63/63 - 41s - loss: 0.6719 - accuracy: 0.7595 - val_loss: 1.3418 - val_accuracy: 0.4615 - 41s/epoch - 658ms/step\n",
            "Epoch 31/50\n",
            "63/63 - 39s - loss: 0.7559 - accuracy: 0.7595 - val_loss: 1.3949 - val_accuracy: 0.4615 - 39s/epoch - 627ms/step\n",
            "Epoch 32/50\n",
            "63/63 - 39s - loss: 0.7418 - accuracy: 0.7395 - val_loss: 1.4972 - val_accuracy: 0.5385 - 39s/epoch - 624ms/step\n",
            "Epoch 33/50\n",
            "63/63 - 38s - loss: 0.6502 - accuracy: 0.7515 - val_loss: 1.3572 - val_accuracy: 0.5192 - 38s/epoch - 608ms/step\n",
            "Epoch 34/50\n",
            "63/63 - 48s - loss: 0.6545 - accuracy: 0.7475 - val_loss: 1.2978 - val_accuracy: 0.5769 - 48s/epoch - 757ms/step\n",
            "Epoch 35/50\n",
            "63/63 - 40s - loss: 0.6745 - accuracy: 0.7575 - val_loss: 1.9063 - val_accuracy: 0.4615 - 40s/epoch - 634ms/step\n",
            "Epoch 36/50\n",
            "63/63 - 41s - loss: 0.5917 - accuracy: 0.7756 - val_loss: 1.7507 - val_accuracy: 0.4423 - 41s/epoch - 657ms/step\n",
            "Epoch 37/50\n",
            "63/63 - 39s - loss: 0.5724 - accuracy: 0.7996 - val_loss: 1.5598 - val_accuracy: 0.4615 - 39s/epoch - 623ms/step\n",
            "Epoch 38/50\n",
            "63/63 - 39s - loss: 0.5223 - accuracy: 0.8016 - val_loss: 1.7610 - val_accuracy: 0.4231 - 39s/epoch - 612ms/step\n",
            "Epoch 39/50\n",
            "63/63 - 41s - loss: 0.5534 - accuracy: 0.7996 - val_loss: 1.6748 - val_accuracy: 0.4423 - 41s/epoch - 654ms/step\n",
            "Epoch 40/50\n",
            "63/63 - 41s - loss: 0.4908 - accuracy: 0.8156 - val_loss: 1.5603 - val_accuracy: 0.5192 - 41s/epoch - 651ms/step\n",
            "Epoch 41/50\n",
            "63/63 - 41s - loss: 0.7064 - accuracy: 0.7675 - val_loss: 1.4839 - val_accuracy: 0.5577 - 41s/epoch - 652ms/step\n",
            "Epoch 42/50\n",
            "63/63 - 41s - loss: 0.4871 - accuracy: 0.8216 - val_loss: 1.5347 - val_accuracy: 0.5385 - 41s/epoch - 643ms/step\n",
            "Epoch 43/50\n",
            "63/63 - 40s - loss: 0.5071 - accuracy: 0.8196 - val_loss: 1.4921 - val_accuracy: 0.4615 - 40s/epoch - 633ms/step\n",
            "Epoch 44/50\n",
            "63/63 - 50s - loss: 0.4707 - accuracy: 0.8477 - val_loss: 1.6027 - val_accuracy: 0.5577 - 50s/epoch - 791ms/step\n",
            "Epoch 45/50\n",
            "63/63 - 39s - loss: 0.5016 - accuracy: 0.8277 - val_loss: 1.6679 - val_accuracy: 0.4038 - 39s/epoch - 618ms/step\n",
            "Epoch 46/50\n",
            "63/63 - 40s - loss: 0.4497 - accuracy: 0.8397 - val_loss: 1.7167 - val_accuracy: 0.4808 - 40s/epoch - 638ms/step\n",
            "Epoch 47/50\n",
            "63/63 - 40s - loss: 0.4742 - accuracy: 0.8437 - val_loss: 1.9584 - val_accuracy: 0.4423 - 40s/epoch - 632ms/step\n",
            "Epoch 48/50\n",
            "63/63 - 39s - loss: 0.5125 - accuracy: 0.8176 - val_loss: 1.4235 - val_accuracy: 0.4808 - 39s/epoch - 623ms/step\n",
            "Epoch 49/50\n",
            "63/63 - 39s - loss: 0.4525 - accuracy: 0.8497 - val_loss: 1.5802 - val_accuracy: 0.4423 - 39s/epoch - 622ms/step\n",
            "Epoch 50/50\n",
            "63/63 - 40s - loss: 0.3796 - accuracy: 0.8677 - val_loss: 1.4081 - val_accuracy: 0.5577 - 40s/epoch - 640ms/step\n"
          ]
        }
      ]
    },
    {
      "cell_type": "markdown",
      "source": [
        "# PLOT AKURASI"
      ],
      "metadata": {
        "id": "Hop6gAzZFXQ-"
      }
    },
    {
      "cell_type": "code",
      "source": [
        "import matplotlib.pyplot as plt\n",
        "plt.plot(history.history['accuracy'])\n",
        "plt.plot(history.history['val_accuracy'])\n",
        "plt.title('Akurasi Model')\n",
        "plt.ylabel('accuracy')\n",
        "plt.xlabel('epoch')\n",
        "plt.legend(['train', 'test'], loc='upper left')\n",
        "plt.show()"
      ],
      "metadata": {
        "id": "hSinpAdLFYyG"
      },
      "execution_count": null,
      "outputs": []
    },
    {
      "cell_type": "markdown",
      "source": [
        "# PLOT LOSS"
      ],
      "metadata": {
        "id": "HmU8tir8FfCH"
      }
    },
    {
      "cell_type": "code",
      "source": [
        "plt.plot(history.history['loss'])\n",
        "plt.plot(history.history['val_loss'])\n",
        "plt.title('Loss Model')\n",
        "plt.ylabel('loss')\n",
        "plt.xlabel('epoch')\n",
        "plt.legend(['train', 'test'], loc='upper left')\n",
        "plt.show()"
      ],
      "metadata": {
        "id": "u-WyrNiUFgOs"
      },
      "execution_count": null,
      "outputs": []
    }
  ]
}