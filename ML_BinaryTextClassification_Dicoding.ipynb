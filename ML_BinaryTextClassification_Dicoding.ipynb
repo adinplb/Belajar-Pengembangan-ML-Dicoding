{
  "nbformat": 4,
  "nbformat_minor": 0,
  "metadata": {
    "colab": {
      "provenance": []
    },
    "kernelspec": {
      "name": "python3",
      "display_name": "Python 3"
    },
    "language_info": {
      "name": "python"
    }
  },
  "cells": [
    {
      "cell_type": "markdown",
      "source": [
        "# Import Library"
      ],
      "metadata": {
        "id": "x5O-cWvTGQtt"
      }
    },
    {
      "cell_type": "code",
      "source": [
        "import pandas as pd"
      ],
      "metadata": {
        "id": "39ASJtGmGbOK"
      },
      "execution_count": 1,
      "outputs": []
    },
    {
      "cell_type": "markdown",
      "source": [
        "# GDrive Connecting"
      ],
      "metadata": {
        "id": "PywBkG_OGerN"
      }
    },
    {
      "cell_type": "code",
      "source": [
        "from google.colab import drive\n",
        "drive.mount ('/content/drive')"
      ],
      "metadata": {
        "colab": {
          "base_uri": "https://localhost:8080/"
        },
        "id": "MNoGmrluGiCR",
        "outputId": "e41be1e7-105e-4cd0-c795-d77caf849dc7"
      },
      "execution_count": 2,
      "outputs": [
        {
          "output_type": "stream",
          "name": "stdout",
          "text": [
            "Mounted at /content/drive\n"
          ]
        }
      ]
    },
    {
      "cell_type": "markdown",
      "source": [
        "# Import Dataset"
      ],
      "metadata": {
        "id": "c8xAysnnGk2G"
      }
    },
    {
      "cell_type": "code",
      "execution_count": 4,
      "metadata": {
        "id": "LOuuHlzJFDC4"
      },
      "outputs": [],
      "source": [
        "df = pd.read_csv('/content/drive/MyDrive/pengembangan-ML-dicoding/sentiment labelled sentences/yelp_labelled.txt', names=['sentence', 'label'], sep='\\t')"
      ]
    },
    {
      "cell_type": "code",
      "source": [
        "df.tail()"
      ],
      "metadata": {
        "colab": {
          "base_uri": "https://localhost:8080/",
          "height": 206
        },
        "id": "KAjXGEdyHTTT",
        "outputId": "9c4b0da5-f7b2-4a6c-c80f-023a6f7c3868"
      },
      "execution_count": 5,
      "outputs": [
        {
          "output_type": "execute_result",
          "data": {
            "text/plain": [
              "                                              sentence  label\n",
              "995  I think food should have flavor and texture an...      0\n",
              "996                           Appetite instantly gone.      0\n",
              "997  Overall I was not impressed and would not go b...      0\n",
              "998  The whole experience was underwhelming, and I ...      0\n",
              "999  Then, as if I hadn't wasted enough of my life ...      0"
            ],
            "text/html": [
              "\n",
              "  <div id=\"df-e15060e6-ee31-48c3-96a6-201ace405ce5\" class=\"colab-df-container\">\n",
              "    <div>\n",
              "<style scoped>\n",
              "    .dataframe tbody tr th:only-of-type {\n",
              "        vertical-align: middle;\n",
              "    }\n",
              "\n",
              "    .dataframe tbody tr th {\n",
              "        vertical-align: top;\n",
              "    }\n",
              "\n",
              "    .dataframe thead th {\n",
              "        text-align: right;\n",
              "    }\n",
              "</style>\n",
              "<table border=\"1\" class=\"dataframe\">\n",
              "  <thead>\n",
              "    <tr style=\"text-align: right;\">\n",
              "      <th></th>\n",
              "      <th>sentence</th>\n",
              "      <th>label</th>\n",
              "    </tr>\n",
              "  </thead>\n",
              "  <tbody>\n",
              "    <tr>\n",
              "      <th>995</th>\n",
              "      <td>I think food should have flavor and texture an...</td>\n",
              "      <td>0</td>\n",
              "    </tr>\n",
              "    <tr>\n",
              "      <th>996</th>\n",
              "      <td>Appetite instantly gone.</td>\n",
              "      <td>0</td>\n",
              "    </tr>\n",
              "    <tr>\n",
              "      <th>997</th>\n",
              "      <td>Overall I was not impressed and would not go b...</td>\n",
              "      <td>0</td>\n",
              "    </tr>\n",
              "    <tr>\n",
              "      <th>998</th>\n",
              "      <td>The whole experience was underwhelming, and I ...</td>\n",
              "      <td>0</td>\n",
              "    </tr>\n",
              "    <tr>\n",
              "      <th>999</th>\n",
              "      <td>Then, as if I hadn't wasted enough of my life ...</td>\n",
              "      <td>0</td>\n",
              "    </tr>\n",
              "  </tbody>\n",
              "</table>\n",
              "</div>\n",
              "    <div class=\"colab-df-buttons\">\n",
              "\n",
              "  <div class=\"colab-df-container\">\n",
              "    <button class=\"colab-df-convert\" onclick=\"convertToInteractive('df-e15060e6-ee31-48c3-96a6-201ace405ce5')\"\n",
              "            title=\"Convert this dataframe to an interactive table.\"\n",
              "            style=\"display:none;\">\n",
              "\n",
              "  <svg xmlns=\"http://www.w3.org/2000/svg\" height=\"24px\" viewBox=\"0 -960 960 960\">\n",
              "    <path d=\"M120-120v-720h720v720H120Zm60-500h600v-160H180v160Zm220 220h160v-160H400v160Zm0 220h160v-160H400v160ZM180-400h160v-160H180v160Zm440 0h160v-160H620v160ZM180-180h160v-160H180v160Zm440 0h160v-160H620v160Z\"/>\n",
              "  </svg>\n",
              "    </button>\n",
              "\n",
              "  <style>\n",
              "    .colab-df-container {\n",
              "      display:flex;\n",
              "      gap: 12px;\n",
              "    }\n",
              "\n",
              "    .colab-df-convert {\n",
              "      background-color: #E8F0FE;\n",
              "      border: none;\n",
              "      border-radius: 50%;\n",
              "      cursor: pointer;\n",
              "      display: none;\n",
              "      fill: #1967D2;\n",
              "      height: 32px;\n",
              "      padding: 0 0 0 0;\n",
              "      width: 32px;\n",
              "    }\n",
              "\n",
              "    .colab-df-convert:hover {\n",
              "      background-color: #E2EBFA;\n",
              "      box-shadow: 0px 1px 2px rgba(60, 64, 67, 0.3), 0px 1px 3px 1px rgba(60, 64, 67, 0.15);\n",
              "      fill: #174EA6;\n",
              "    }\n",
              "\n",
              "    .colab-df-buttons div {\n",
              "      margin-bottom: 4px;\n",
              "    }\n",
              "\n",
              "    [theme=dark] .colab-df-convert {\n",
              "      background-color: #3B4455;\n",
              "      fill: #D2E3FC;\n",
              "    }\n",
              "\n",
              "    [theme=dark] .colab-df-convert:hover {\n",
              "      background-color: #434B5C;\n",
              "      box-shadow: 0px 1px 3px 1px rgba(0, 0, 0, 0.15);\n",
              "      filter: drop-shadow(0px 1px 2px rgba(0, 0, 0, 0.3));\n",
              "      fill: #FFFFFF;\n",
              "    }\n",
              "  </style>\n",
              "\n",
              "    <script>\n",
              "      const buttonEl =\n",
              "        document.querySelector('#df-e15060e6-ee31-48c3-96a6-201ace405ce5 button.colab-df-convert');\n",
              "      buttonEl.style.display =\n",
              "        google.colab.kernel.accessAllowed ? 'block' : 'none';\n",
              "\n",
              "      async function convertToInteractive(key) {\n",
              "        const element = document.querySelector('#df-e15060e6-ee31-48c3-96a6-201ace405ce5');\n",
              "        const dataTable =\n",
              "          await google.colab.kernel.invokeFunction('convertToInteractive',\n",
              "                                                    [key], {});\n",
              "        if (!dataTable) return;\n",
              "\n",
              "        const docLinkHtml = 'Like what you see? Visit the ' +\n",
              "          '<a target=\"_blank\" href=https://colab.research.google.com/notebooks/data_table.ipynb>data table notebook</a>'\n",
              "          + ' to learn more about interactive tables.';\n",
              "        element.innerHTML = '';\n",
              "        dataTable['output_type'] = 'display_data';\n",
              "        await google.colab.output.renderOutput(dataTable, element);\n",
              "        const docLink = document.createElement('div');\n",
              "        docLink.innerHTML = docLinkHtml;\n",
              "        element.appendChild(docLink);\n",
              "      }\n",
              "    </script>\n",
              "  </div>\n",
              "\n",
              "\n",
              "<div id=\"df-94945b30-ceb2-4f6f-ae1c-82e9a7810a29\">\n",
              "  <button class=\"colab-df-quickchart\" onclick=\"quickchart('df-94945b30-ceb2-4f6f-ae1c-82e9a7810a29')\"\n",
              "            title=\"Suggest charts\"\n",
              "            style=\"display:none;\">\n",
              "\n",
              "<svg xmlns=\"http://www.w3.org/2000/svg\" height=\"24px\"viewBox=\"0 0 24 24\"\n",
              "     width=\"24px\">\n",
              "    <g>\n",
              "        <path d=\"M19 3H5c-1.1 0-2 .9-2 2v14c0 1.1.9 2 2 2h14c1.1 0 2-.9 2-2V5c0-1.1-.9-2-2-2zM9 17H7v-7h2v7zm4 0h-2V7h2v10zm4 0h-2v-4h2v4z\"/>\n",
              "    </g>\n",
              "</svg>\n",
              "  </button>\n",
              "\n",
              "<style>\n",
              "  .colab-df-quickchart {\n",
              "      --bg-color: #E8F0FE;\n",
              "      --fill-color: #1967D2;\n",
              "      --hover-bg-color: #E2EBFA;\n",
              "      --hover-fill-color: #174EA6;\n",
              "      --disabled-fill-color: #AAA;\n",
              "      --disabled-bg-color: #DDD;\n",
              "  }\n",
              "\n",
              "  [theme=dark] .colab-df-quickchart {\n",
              "      --bg-color: #3B4455;\n",
              "      --fill-color: #D2E3FC;\n",
              "      --hover-bg-color: #434B5C;\n",
              "      --hover-fill-color: #FFFFFF;\n",
              "      --disabled-bg-color: #3B4455;\n",
              "      --disabled-fill-color: #666;\n",
              "  }\n",
              "\n",
              "  .colab-df-quickchart {\n",
              "    background-color: var(--bg-color);\n",
              "    border: none;\n",
              "    border-radius: 50%;\n",
              "    cursor: pointer;\n",
              "    display: none;\n",
              "    fill: var(--fill-color);\n",
              "    height: 32px;\n",
              "    padding: 0;\n",
              "    width: 32px;\n",
              "  }\n",
              "\n",
              "  .colab-df-quickchart:hover {\n",
              "    background-color: var(--hover-bg-color);\n",
              "    box-shadow: 0 1px 2px rgba(60, 64, 67, 0.3), 0 1px 3px 1px rgba(60, 64, 67, 0.15);\n",
              "    fill: var(--button-hover-fill-color);\n",
              "  }\n",
              "\n",
              "  .colab-df-quickchart-complete:disabled,\n",
              "  .colab-df-quickchart-complete:disabled:hover {\n",
              "    background-color: var(--disabled-bg-color);\n",
              "    fill: var(--disabled-fill-color);\n",
              "    box-shadow: none;\n",
              "  }\n",
              "\n",
              "  .colab-df-spinner {\n",
              "    border: 2px solid var(--fill-color);\n",
              "    border-color: transparent;\n",
              "    border-bottom-color: var(--fill-color);\n",
              "    animation:\n",
              "      spin 1s steps(1) infinite;\n",
              "  }\n",
              "\n",
              "  @keyframes spin {\n",
              "    0% {\n",
              "      border-color: transparent;\n",
              "      border-bottom-color: var(--fill-color);\n",
              "      border-left-color: var(--fill-color);\n",
              "    }\n",
              "    20% {\n",
              "      border-color: transparent;\n",
              "      border-left-color: var(--fill-color);\n",
              "      border-top-color: var(--fill-color);\n",
              "    }\n",
              "    30% {\n",
              "      border-color: transparent;\n",
              "      border-left-color: var(--fill-color);\n",
              "      border-top-color: var(--fill-color);\n",
              "      border-right-color: var(--fill-color);\n",
              "    }\n",
              "    40% {\n",
              "      border-color: transparent;\n",
              "      border-right-color: var(--fill-color);\n",
              "      border-top-color: var(--fill-color);\n",
              "    }\n",
              "    60% {\n",
              "      border-color: transparent;\n",
              "      border-right-color: var(--fill-color);\n",
              "    }\n",
              "    80% {\n",
              "      border-color: transparent;\n",
              "      border-right-color: var(--fill-color);\n",
              "      border-bottom-color: var(--fill-color);\n",
              "    }\n",
              "    90% {\n",
              "      border-color: transparent;\n",
              "      border-bottom-color: var(--fill-color);\n",
              "    }\n",
              "  }\n",
              "</style>\n",
              "\n",
              "  <script>\n",
              "    async function quickchart(key) {\n",
              "      const quickchartButtonEl =\n",
              "        document.querySelector('#' + key + ' button');\n",
              "      quickchartButtonEl.disabled = true;  // To prevent multiple clicks.\n",
              "      quickchartButtonEl.classList.add('colab-df-spinner');\n",
              "      try {\n",
              "        const charts = await google.colab.kernel.invokeFunction(\n",
              "            'suggestCharts', [key], {});\n",
              "      } catch (error) {\n",
              "        console.error('Error during call to suggestCharts:', error);\n",
              "      }\n",
              "      quickchartButtonEl.classList.remove('colab-df-spinner');\n",
              "      quickchartButtonEl.classList.add('colab-df-quickchart-complete');\n",
              "    }\n",
              "    (() => {\n",
              "      let quickchartButtonEl =\n",
              "        document.querySelector('#df-94945b30-ceb2-4f6f-ae1c-82e9a7810a29 button');\n",
              "      quickchartButtonEl.style.display =\n",
              "        google.colab.kernel.accessAllowed ? 'block' : 'none';\n",
              "    })();\n",
              "  </script>\n",
              "</div>\n",
              "    </div>\n",
              "  </div>\n"
            ]
          },
          "metadata": {},
          "execution_count": 5
        }
      ]
    },
    {
      "cell_type": "markdown",
      "source": [
        "# Split Train dan Test 80:20"
      ],
      "metadata": {
        "id": "iGyne1G9Hbwo"
      }
    },
    {
      "cell_type": "code",
      "source": [
        "from sklearn.model_selection import train_test_split\n",
        "kalimat = df['sentence'].values\n",
        "y = df['label'].values\n",
        "kalimat_latih, kalimat_test, y_latih, y_test = train_test_split(kalimat, y, test_size=0.2)"
      ],
      "metadata": {
        "id": "d_vIn4zzHhOs"
      },
      "execution_count": 6,
      "outputs": []
    },
    {
      "cell_type": "markdown",
      "source": [
        "# Tokenization"
      ],
      "metadata": {
        "id": "0b5jZyo1H1k1"
      }
    },
    {
      "cell_type": "code",
      "source": [
        "from tensorflow.keras.preprocessing.text import Tokenizer\n",
        "from tensorflow.keras.preprocessing.sequence import pad_sequences\n",
        "\n",
        "tokenizer = Tokenizer(num_words=250, oov_token='x')\n",
        "tokenizer.fit_on_texts(kalimat_latih)\n",
        "tokenizer.fit_on_texts(kalimat_test)\n",
        "\n",
        "sekuens_latih = tokenizer.texts_to_sequences(kalimat_latih)\n",
        "sekuens_test = tokenizer.texts_to_sequences(kalimat_test)\n",
        "\n",
        "padded_latih = pad_sequences(sekuens_latih, maxlen=20)\n",
        "padded_test = pad_sequences(sekuens_test, maxlen=20)"
      ],
      "metadata": {
        "id": "EPuAryGJH3NU"
      },
      "execution_count": 7,
      "outputs": []
    },
    {
      "cell_type": "markdown",
      "source": [
        "# Built Model NLP dg Embedding"
      ],
      "metadata": {
        "id": "tjJhlw0CIBpU"
      }
    },
    {
      "cell_type": "code",
      "source": [
        "import tensorflow as tf\n",
        "model = tf.keras.Sequential([\n",
        "    tf.keras.layers.Embedding(250, 16, input_length=20),\n",
        "    tf.keras.layers.GlobalAveragePooling1D(),\n",
        "    tf.keras.layers.Dense(24, activation='relu'),\n",
        "    tf.keras.layers.Dense(1, activation='sigmoid')\n",
        "])\n",
        "model.compile(loss='binary_crossentropy',optimizer='adam',metrics=['accuracy'])"
      ],
      "metadata": {
        "id": "KUMsg7TGIFlA"
      },
      "execution_count": 8,
      "outputs": []
    },
    {
      "cell_type": "markdown",
      "source": [
        "# Latih Model"
      ],
      "metadata": {
        "id": "OhUg0t8lJk3k"
      }
    },
    {
      "cell_type": "code",
      "source": [
        "num_epochs = 30\n",
        "history = model.fit(padded_latih, y_latih, epochs=num_epochs,\n",
        "                    validation_data=(padded_test, y_test), verbose=2)"
      ],
      "metadata": {
        "colab": {
          "base_uri": "https://localhost:8080/"
        },
        "id": "6Pde_0Y1JsCj",
        "outputId": "c3f946d3-8bce-4752-bf5e-775f62549ff9"
      },
      "execution_count": 9,
      "outputs": [
        {
          "output_type": "stream",
          "name": "stdout",
          "text": [
            "Epoch 1/30\n",
            "25/25 - 1s - loss: 0.6926 - accuracy: 0.5188 - val_loss: 0.6921 - val_accuracy: 0.5800 - 1s/epoch - 58ms/step\n",
            "Epoch 2/30\n",
            "25/25 - 0s - loss: 0.6896 - accuracy: 0.5813 - val_loss: 0.6896 - val_accuracy: 0.5950 - 92ms/epoch - 4ms/step\n",
            "Epoch 3/30\n",
            "25/25 - 0s - loss: 0.6850 - accuracy: 0.6263 - val_loss: 0.6858 - val_accuracy: 0.6150 - 93ms/epoch - 4ms/step\n",
            "Epoch 4/30\n",
            "25/25 - 0s - loss: 0.6783 - accuracy: 0.6513 - val_loss: 0.6804 - val_accuracy: 0.6050 - 95ms/epoch - 4ms/step\n",
            "Epoch 5/30\n",
            "25/25 - 0s - loss: 0.6676 - accuracy: 0.6875 - val_loss: 0.6720 - val_accuracy: 0.6250 - 84ms/epoch - 3ms/step\n",
            "Epoch 6/30\n",
            "25/25 - 0s - loss: 0.6537 - accuracy: 0.7100 - val_loss: 0.6607 - val_accuracy: 0.6400 - 101ms/epoch - 4ms/step\n",
            "Epoch 7/30\n",
            "25/25 - 0s - loss: 0.6339 - accuracy: 0.7437 - val_loss: 0.6454 - val_accuracy: 0.6650 - 107ms/epoch - 4ms/step\n",
            "Epoch 8/30\n",
            "25/25 - 0s - loss: 0.6106 - accuracy: 0.7625 - val_loss: 0.6330 - val_accuracy: 0.6550 - 94ms/epoch - 4ms/step\n",
            "Epoch 9/30\n",
            "25/25 - 0s - loss: 0.5855 - accuracy: 0.7625 - val_loss: 0.6099 - val_accuracy: 0.6950 - 96ms/epoch - 4ms/step\n",
            "Epoch 10/30\n",
            "25/25 - 0s - loss: 0.5571 - accuracy: 0.7987 - val_loss: 0.5897 - val_accuracy: 0.7300 - 91ms/epoch - 4ms/step\n",
            "Epoch 11/30\n",
            "25/25 - 0s - loss: 0.5255 - accuracy: 0.8175 - val_loss: 0.5706 - val_accuracy: 0.7400 - 96ms/epoch - 4ms/step\n",
            "Epoch 12/30\n",
            "25/25 - 0s - loss: 0.4977 - accuracy: 0.8325 - val_loss: 0.5520 - val_accuracy: 0.7600 - 83ms/epoch - 3ms/step\n",
            "Epoch 13/30\n",
            "25/25 - 0s - loss: 0.4694 - accuracy: 0.8413 - val_loss: 0.5368 - val_accuracy: 0.7700 - 89ms/epoch - 4ms/step\n",
            "Epoch 14/30\n",
            "25/25 - 0s - loss: 0.4442 - accuracy: 0.8450 - val_loss: 0.5233 - val_accuracy: 0.7500 - 93ms/epoch - 4ms/step\n",
            "Epoch 15/30\n",
            "25/25 - 0s - loss: 0.4213 - accuracy: 0.8575 - val_loss: 0.5136 - val_accuracy: 0.7600 - 91ms/epoch - 4ms/step\n",
            "Epoch 16/30\n",
            "25/25 - 0s - loss: 0.3996 - accuracy: 0.8637 - val_loss: 0.4974 - val_accuracy: 0.7800 - 97ms/epoch - 4ms/step\n",
            "Epoch 17/30\n",
            "25/25 - 0s - loss: 0.3841 - accuracy: 0.8662 - val_loss: 0.4875 - val_accuracy: 0.7850 - 96ms/epoch - 4ms/step\n",
            "Epoch 18/30\n",
            "25/25 - 0s - loss: 0.3654 - accuracy: 0.8712 - val_loss: 0.4858 - val_accuracy: 0.7950 - 94ms/epoch - 4ms/step\n",
            "Epoch 19/30\n",
            "25/25 - 0s - loss: 0.3530 - accuracy: 0.8687 - val_loss: 0.4758 - val_accuracy: 0.7850 - 91ms/epoch - 4ms/step\n",
            "Epoch 20/30\n",
            "25/25 - 0s - loss: 0.3405 - accuracy: 0.8763 - val_loss: 0.4830 - val_accuracy: 0.7800 - 83ms/epoch - 3ms/step\n",
            "Epoch 21/30\n",
            "25/25 - 0s - loss: 0.3316 - accuracy: 0.8800 - val_loss: 0.4714 - val_accuracy: 0.8000 - 102ms/epoch - 4ms/step\n",
            "Epoch 22/30\n",
            "25/25 - 0s - loss: 0.3233 - accuracy: 0.8712 - val_loss: 0.4815 - val_accuracy: 0.7650 - 87ms/epoch - 3ms/step\n",
            "Epoch 23/30\n",
            "25/25 - 0s - loss: 0.3164 - accuracy: 0.8788 - val_loss: 0.4794 - val_accuracy: 0.7800 - 84ms/epoch - 3ms/step\n",
            "Epoch 24/30\n",
            "25/25 - 0s - loss: 0.3063 - accuracy: 0.8813 - val_loss: 0.4715 - val_accuracy: 0.7950 - 85ms/epoch - 3ms/step\n",
            "Epoch 25/30\n",
            "25/25 - 0s - loss: 0.2993 - accuracy: 0.8813 - val_loss: 0.4715 - val_accuracy: 0.7850 - 97ms/epoch - 4ms/step\n",
            "Epoch 26/30\n",
            "25/25 - 0s - loss: 0.2942 - accuracy: 0.8888 - val_loss: 0.4715 - val_accuracy: 0.7850 - 96ms/epoch - 4ms/step\n",
            "Epoch 27/30\n",
            "25/25 - 0s - loss: 0.2886 - accuracy: 0.8863 - val_loss: 0.4786 - val_accuracy: 0.7900 - 84ms/epoch - 3ms/step\n",
            "Epoch 28/30\n",
            "25/25 - 0s - loss: 0.2871 - accuracy: 0.8813 - val_loss: 0.4748 - val_accuracy: 0.7750 - 83ms/epoch - 3ms/step\n",
            "Epoch 29/30\n",
            "25/25 - 0s - loss: 0.2813 - accuracy: 0.8888 - val_loss: 0.4766 - val_accuracy: 0.7800 - 93ms/epoch - 4ms/step\n",
            "Epoch 30/30\n",
            "25/25 - 0s - loss: 0.2752 - accuracy: 0.8863 - val_loss: 0.4792 - val_accuracy: 0.7700 - 95ms/epoch - 4ms/step\n"
          ]
        }
      ]
    }
  ]
}